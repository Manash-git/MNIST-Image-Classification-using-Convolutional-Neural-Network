{
 "cells": [
  {
   "cell_type": "code",
   "execution_count": 1,
   "metadata": {},
   "outputs": [],
   "source": [
    "# Importing library\n",
    "\n",
    "import numpy as np\n",
    "import keras\n",
    "from keras.models import Sequential\n",
    "from keras.layers import Flatten, Dense\n",
    "import matplotlib.pyplot as plt\n",
    "%matplotlib inline\n"
   ]
  },
  {
   "cell_type": "code",
   "execution_count": 2,
   "metadata": {},
   "outputs": [
    {
     "data": {
      "text/plain": [
       "<Figure size 432x288 with 0 Axes>"
      ]
     },
     "execution_count": 2,
     "metadata": {},
     "output_type": "execute_result"
    },
    {
     "data": {
      "image/png": "[encoded data removed]",
      "text/plain": [
       "<Figure size 432x288 with 1 Axes>"
      ]
     },
     "metadata": {
      "needs_background": "light"
     },
     "output_type": "display_data"
    },
    {
     "data": {
      "text/plain": [
       "<Figure size 432x288 with 0 Axes>"
      ]
     },
     "metadata": {},
     "output_type": "display_data"
    }
   ],
   "source": [
    "# Loading Dataset\n",
    "\n",
    "from keras.datasets import fashion_mnist\n",
    "(x_train, x_lab),(y_test, y_lab) = fashion_mnist.load_data()\n",
    "plt.imshow(x_train[0])\n",
    "plt.title('Class: {}'.format(x_lab[0]))\n",
    "plt.figure()"
   ]
  },
  {
   "cell_type": "code",
   "execution_count": 3,
   "metadata": {},
   "outputs": [
    {
     "data": {
      "text/plain": [
       "<Figure size 432x288 with 0 Axes>"
      ]
     },
     "execution_count": 3,
     "metadata": {},
     "output_type": "execute_result"
    },
    {
     "data": {
      "image/png": "[encoded data removed]",
      "text/plain": [
       "<Figure size 432x288 with 1 Axes>"
      ]
     },
     "metadata": {
      "needs_background": "light"
     },
     "output_type": "display_data"
    },
    {
     "data": {
      "text/plain": [
       "<Figure size 432x288 with 0 Axes>"
      ]
     },
     "metadata": {},
     "output_type": "display_data"
    }
   ],
   "source": [
    "# Normalizing the Data\n",
    "x_train = keras.utils.normalize(x_train, axis = 1)\n",
    "y_test = keras.utils.normalize(y_test, axis = 1)\n",
    "plt.imshow(x_train[0])\n",
    "plt.title('Class: {}'.format(x_lab[0]))\n",
    "plt.figure()"
   ]
  },
  {
   "cell_type": "code",
   "execution_count": 4,
   "metadata": {},
   "outputs": [],
   "source": [
    "# Defining the Model\n",
    "model = Sequential()\n",
    "model.add(Flatten(input_shape=((28,28))))\n",
    "model.add(Dense(200, activation=\"relu\"))\n",
    "model.add(Dense(10, activation=\"softmax\"))"
   ]
  },
  {
   "cell_type": "code",
   "execution_count": 5,
   "metadata": {},
   "outputs": [
    {
     "name": "stdout",
     "output_type": "stream",
     "text": [
      "Epoch 1/20\n",
      "1875/1875 [==============================] - 4s 2ms/step - loss: 0.4864 - accuracy: 0.8233\n",
      "Epoch 2/20\n",
      "1875/1875 [==============================] - 5s 2ms/step - loss: 0.3612 - accuracy: 0.8673\n",
      "Epoch 3/20\n",
      "1875/1875 [==============================] - 4s 2ms/step - loss: 0.3215 - accuracy: 0.8804\n",
      "Epoch 4/20\n",
      "1875/1875 [==============================] - 5s 3ms/step - loss: 0.2963 - accuracy: 0.8898\n",
      "Epoch 5/20\n",
      "1875/1875 [==============================] - 5s 2ms/step - loss: 0.2786 - accuracy: 0.8953\n",
      "Epoch 6/20\n",
      "1875/1875 [==============================] - 5s 2ms/step - loss: 0.2611 - accuracy: 0.9024\n",
      "Epoch 7/20\n",
      "1875/1875 [==============================] - 5s 2ms/step - loss: 0.2505 - accuracy: 0.9053\n",
      "Epoch 8/20\n",
      "1875/1875 [==============================] - 5s 3ms/step - loss: 0.2350 - accuracy: 0.9110\n",
      "Epoch 9/20\n",
      "1875/1875 [==============================] - 5s 3ms/step - loss: 0.2247 - accuracy: 0.9154\n",
      "Epoch 10/20\n",
      "1875/1875 [==============================] - 5s 3ms/step - loss: 0.2152 - accuracy: 0.9188\n",
      "Epoch 11/20\n",
      "1875/1875 [==============================] - 5s 3ms/step - loss: 0.2058 - accuracy: 0.9228\n",
      "Epoch 12/20\n",
      "1875/1875 [==============================] - 5s 2ms/step - loss: 0.1976 - accuracy: 0.9257\n",
      "Epoch 13/20\n",
      "1875/1875 [==============================] - 5s 2ms/step - loss: 0.1879 - accuracy: 0.9292\n",
      "Epoch 14/20\n",
      "1875/1875 [==============================] - 5s 3ms/step - loss: 0.1802 - accuracy: 0.9321\n",
      "Epoch 15/20\n",
      "1875/1875 [==============================] - 5s 2ms/step - loss: 0.1748 - accuracy: 0.9334\n",
      "Epoch 16/20\n",
      "1875/1875 [==============================] - 5s 2ms/step - loss: 0.1668 - accuracy: 0.9370\n",
      "Epoch 17/20\n",
      "1875/1875 [==============================] - 5s 3ms/step - loss: 0.1607 - accuracy: 0.9387\n",
      "Epoch 18/20\n",
      "1875/1875 [==============================] - 5s 3ms/step - loss: 0.1545 - accuracy: 0.9426\n",
      "Epoch 19/20\n",
      "1875/1875 [==============================] - 5s 3ms/step - loss: 0.1504 - accuracy: 0.9435\n",
      "Epoch 20/20\n",
      "1875/1875 [==============================] - 5s 3ms/step - loss: 0.1433 - accuracy: 0.9463\n"
     ]
    },
    {
     "data": {
      "text/plain": [
       "<tensorflow.python.keras.callbacks.History at 0x1bb24f0a1f0>"
      ]
     },
     "execution_count": 5,
     "metadata": {},
     "output_type": "execute_result"
    }
   ],
   "source": [
    "# Compiling the Model\n",
    "model.compile(optimizer = \"adam\", loss=\"sparse_categorical_crossentropy\", metrics = [\"accuracy\"])\n",
    "\n",
    "# Fitting the Model\n",
    "model.fit(x_train, x_lab, epochs = 20)\n"
   ]
  },
  {
   "cell_type": "code",
   "execution_count": 6,
   "metadata": {},
   "outputs": [
    {
     "name": "stdout",
     "output_type": "stream",
     "text": [
      "313/313 [==============================] - 0s 2ms/step - loss: 0.3666 - accuracy: 0.8894\n",
      "[[3.34204192e-11 1.05469571e-18 1.52558877e-09 9.40448240e-12\n",
      "  2.36914946e-14 7.56824008e-08 3.39351255e-11 3.35709774e-05\n",
      "  6.82074675e-10 9.99966383e-01]\n",
      " [1.60724076e-03 1.12091638e-11 9.92213428e-01 2.67348469e-07\n",
      "  4.15719720e-03 8.69905303e-09 2.02193321e-03 9.20817111e-09\n",
      "  2.97260261e-09 2.32456077e-09]\n",
      " [7.81024490e-09 1.00000000e+00 2.73512468e-13 1.54866964e-09\n",
      "  2.19750910e-12 2.94896196e-19 1.36274082e-11 7.37723291e-21\n",
      "  3.93512534e-13 5.70238876e-18]\n",
      " [2.13147278e-11 1.00000000e+00 7.64516488e-14 4.89495244e-09\n",
      "  1.89105814e-11 2.44445003e-18 1.23088117e-13 1.46384589e-19\n",
      "  1.30743533e-13 9.55840479e-20]\n",
      " [3.53593111e-01 3.93818116e-13 1.77592633e-03 1.42968438e-05\n",
      "  1.34437185e-04 5.32256230e-08 6.44482136e-01 1.13946146e-12\n",
      "  4.53057841e-10 1.37045358e-11]\n",
      " [4.37566268e-06 9.99995470e-01 1.42987204e-08 5.18703871e-08\n",
      "  4.10382350e-09 4.67096827e-14 8.19850214e-08 5.48529537e-16\n",
      "  6.58539751e-11 2.19450634e-14]\n",
      " [1.77675352e-09 6.13675343e-12 4.24657390e-03 7.52755659e-13\n",
      "  9.95753288e-01 9.26605407e-12 1.22588219e-07 6.46517336e-15\n",
      "  3.27272558e-14 2.92640248e-15]\n",
      " [1.92753351e-08 2.03948847e-15 3.98514421e-05 4.49121451e-09\n",
      "  3.46257322e-04 1.07894511e-08 9.99613941e-01 8.64196247e-13\n",
      "  2.49071128e-11 2.16110498e-11]\n",
      " [1.64940232e-13 3.32846706e-13 1.28185175e-16 1.24845976e-11\n",
      "  1.14322515e-16 1.00000000e+00 1.28815222e-10 3.63899340e-13\n",
      "  3.85990712e-15 1.11823817e-17]\n",
      " [3.17866444e-08 1.61024267e-11 6.77564084e-14 3.67983537e-14\n",
      "  5.27776885e-11 5.74250514e-08 3.52395413e-12 9.99999642e-01\n",
      "  8.85808404e-09 2.15485002e-07]]\n"
     ]
    }
   ],
   "source": [
    "# Evaluating on the Test Data\n",
    "model.evaluate(y_test, y_lab)\n",
    "\n",
    "# Predict the first 10 images, Probability Distribution\n",
    "p = model.predict(y_test[:10])\n",
    "print(p)\n"
   ]
  },
  {
   "cell_type": "code",
   "execution_count": 7,
   "metadata": {},
   "outputs": [
    {
     "name": "stdout",
     "output_type": "stream",
     "text": [
      "[9 2 1 1 6 1 4 6 5 7]\n",
      "[9 2 1 1 6 1 4 6 5 7]\n"
     ]
    }
   ],
   "source": [
    "pred = np.argmax(p, axis=1)\n",
    "print(pred)\n",
    "print(y_lab[:10])"
   ]
  },
  {
   "cell_type": "code",
   "execution_count": null,
   "metadata": {},
   "outputs": [],
   "source": []
  }
 ],
 "metadata": {
  "kernelspec": {
   "display_name": "Python 3",
   "language": "python",
   "name": "python3"
  },
  "language_info": {
   "codemirror_mode": {
    "name": "ipython",
    "version": 3
   },
   "file_extension": ".py",
   "mimetype": "text/x-python",
   "name": "python",
   "nbconvert_exporter": "python",
   "pygments_lexer": "ipython3",
   "version": "3.8.6"
  }
 },
 "nbformat": 4,
 "nbformat_minor": 4
}
